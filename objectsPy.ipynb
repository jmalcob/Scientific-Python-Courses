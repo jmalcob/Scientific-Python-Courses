{
 "cells": [
  {
   "cell_type": "markdown",
   "id": "eff7ca03-2302-4a81-a354-fee78a84e295",
   "metadata": {},
   "source": [
    "# Objects and Classes in Pyton"
   ]
  },
  {
   "cell_type": "markdown",
   "id": "f07c3426-f0a7-423b-aa0b-35ca5d132fdb",
   "metadata": {},
   "source": [
    "Obeject-oriented programming enables you to develop large-scale software and GUIs effectively"
   ]
  },
  {
   "cell_type": "markdown",
   "id": "b482800c-e3d2-4887-b08a-294d7afa4bad",
   "metadata": {},
   "source": [
    "## Defining Classes for Objects\n",
    "A class defines the **properties** and **behaviors** for objects\n",
    "\n",
    "+ An _object_ represents and entity in the real world that can be distinctly identified\n",
    "+ An _object_ has a unique identity, state, and behavior.\n",
    "\n",
    "* An object's _**identity**_ is like a person's Social Security number. \n",
    "* An object's _**state**_(also know as its _properties_ or _atributes_) is represented by variables, called _**data fields**_\n",
    "* Python uses methods to define and object's _**behavior**_"
   ]
  },
  {
   "cell_type": "markdown",
   "id": "30e6306e-3aa8-4d46-81f2-cdfa920dde1d",
   "metadata": {},
   "source": [
    "##### Class contract\n",
    "Object of the same kind are defined by using a common class.\n",
    "\n",
    "A Python class uses variables to store data fields and defines methods to perform actions.\n",
    "A class is a **contract** - also sometimes called a _template_ or _blueprint_ - that defines what an object's data fields and methods will be"
   ]
  },
  {
   "cell_type": "markdown",
   "id": "f40acd43-c452-4c78-9007-e6ac75959bb8",
   "metadata": {},
   "source": [
    "##### Instantiation | object | instance"
   ]
  },
  {
   "cell_type": "markdown",
   "id": "c390e136-6b67-407b-aa33-2301a15b2700",
   "metadata": {},
   "source": [
    "An object is an instance of a class , and you can create many instances of a class. Creating an instance of a class is referred to as _instantiation_. The term _object_ and _instance_ are often used interchangeably. An object is an instance and and instance is an object."
   ]
  },
  {
   "cell_type": "markdown",
   "id": "80550a5f-5639-4275-b517-43e7b52a7794",
   "metadata": {},
   "source": [
    "### Defining Classes"
   ]
  },
  {
   "cell_type": "code",
   "execution_count": null,
   "id": "bdd4b515-b2e6-4b87-bbae-4870d2f29447",
   "metadata": {},
   "outputs": [],
   "source": [
    "##### methods | initializer\n",
    "In adition to using variables to store data fields and define methods, a class provides a special method, `__init__` this method known as an initializer, is invoked to initialize a new object's _state_ when it is created."
   ]
  },
  {
   "cell_type": "markdown",
   "id": "e95ad7eb-a85d-446c-b5b9-f4c6aa0c324c",
   "metadata": {},
   "source": [
    "##### class definition"
   ]
  },
  {
   "cell_type": "markdown",
   "id": "e07562ca-fb8f-43a3-ab28-939a53fdec2a",
   "metadata": {},
   "source": [
    "Python uses the following syntax to define a class:\n",
    "```python\n",
    "class ClassName:\n",
    "    initializer\n",
    "    methods\n",
    "```"
   ]
  },
  {
   "cell_type": "code",
   "execution_count": 2,
   "id": "5c1917a0-d52d-47d7-801d-c9b2a9a21642",
   "metadata": {},
   "outputs": [],
   "source": [
    "#Example\n",
    "import math\n",
    "class Circle:\n",
    "    # Construct a circle object\n",
    "    def __init__(self, radius = 1):\n",
    "        self.radius = radius\n",
    "    def getPerimeter(self):\n",
    "        return 2 * self.radius * math.pi\n",
    "    def getArea(self):\n",
    "        return self.radius * self.radius * math.pi\n",
    "    def setRadius(self, radius):\n",
    "        self.radius = radius"
   ]
  },
  {
   "cell_type": "markdown",
   "id": "92c31c53-c887-483a-93c1-a76fb9961a6f",
   "metadata": {},
   "source": [
    "##### class naming convention\n",
    "Note : The naming style for class names in the Python library is not consistent . We will adopt a convention that capitalizes the first letter of each word in the class name e.g `Circle`, `LinearEquation` , `LinkedList`"
   ]
  },
  {
   "cell_type": "markdown",
   "id": "8a9c9e40-e6b1-40b3-a16e-3e26d7a99c01",
   "metadata": {},
   "source": [
    "### Constructing Objects"
   ]
  },
  {
   "cell_type": "markdown",
   "id": "a79008f3-11c7-466b-a225-d88f9bb47e4b",
   "metadata": {},
   "source": [
    "Once a class is defined, you can create objects from te class with a **_constructor_**. The _constructor_ does two things:\n",
    "+ It creates an object in the memory for the class\n",
    "+ It invokes the class's `__init__` method to initialize the object.\n",
    "All methods, including the initializer, have the first parameter `self`\n",
    "\n",
    "The syntax for a constructor is:\n",
    "```python\n",
    "ClassName(arguments)\n",
    "#e.g \n",
    "Circle()\n",
    "Circle(5)\n",
    "```\n"
   ]
  },
  {
   "cell_type": "markdown",
   "id": "15d3c913-bc9f-4520-ada5-352e38ef245d",
   "metadata": {},
   "source": [
    "### Accessing Members of Objects "
   ]
  },
  {
   "cell_type": "markdown",
   "id": "39f82cd6-7e7c-4b67-b9c9-65fd23a6a6bf",
   "metadata": {},
   "source": [
    "##### instance methods\n",
    "An object's member refers to its data _fields_ and _methods_. Data fields are also called **instance variables** . Methods are also called **instance methods**\n",
    "\n",
    "In order to access and object's data fields and invoke and object's methods, you need to assign the object to a variable by using the following syntax:\n",
    "```python\n",
    "objectRefVar = ClassName(arguments)\n",
    "#For example,\n",
    "c1 = Circle(5)\n",
    "c2 = Circle()\n",
    "```\n",
    "You can access the object's data fields and invoke its methods by using the _dot operator_ (`.`), also known as the _object member access operator_. The syntax for using the dot operator is:\n",
    "```python\n",
    "objectRefVar.datafield\n",
    "objectRefVar.method(args)\n",
    "```"
   ]
  },
  {
   "cell_type": "code",
   "execution_count": 4,
   "id": "ef9086b2-20c7-479a-845b-f5647b8602c0",
   "metadata": {},
   "outputs": [],
   "source": [
    "#Hola esto es para gitHub"
   ]
  },
  {
   "cell_type": "code",
   "execution_count": null,
   "id": "82cbac84-35a0-4c06-a0ce-b6e910f44b9c",
   "metadata": {},
   "outputs": [],
   "source": []
  }
 ],
 "metadata": {
  "kernelspec": {
   "display_name": "Python 3 (ipykernel)",
   "language": "python",
   "name": "python3"
  },
  "language_info": {
   "codemirror_mode": {
    "name": "ipython",
    "version": 3
   },
   "file_extension": ".py",
   "mimetype": "text/x-python",
   "name": "python",
   "nbconvert_exporter": "python",
   "pygments_lexer": "ipython3",
   "version": "3.9.7"
  }
 },
 "nbformat": 4,
 "nbformat_minor": 5
}
