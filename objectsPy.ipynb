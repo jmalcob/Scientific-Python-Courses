{
 "cells": [
  {
   "cell_type": "markdown",
   "id": "eff7ca03-2302-4a81-a354-fee78a84e295",
   "metadata": {},
   "source": [
    "# Objects and Classes in Pyton"
   ]
  },
  {
   "cell_type": "markdown",
   "id": "f07c3426-f0a7-423b-aa0b-35ca5d132fdb",
   "metadata": {},
   "source": [
    "Obeject-oriented programming enables you to develop large-scale software and GUIs effectively"
   ]
  },
  {
   "cell_type": "markdown",
   "id": "b482800c-e3d2-4887-b08a-294d7afa4bad",
   "metadata": {},
   "source": [
    "## Defining Classes for Objects\n",
    "A class defines the **properties** and **behaviors** for objects\n",
    "\n",
    "+ An _object_ represents and entity in the real world that can be distinctly identified\n",
    "+ An _object_ has a unique identity, state, and behavior.\n",
    "\n",
    "* An object's _**identity**_ is like a person's Social Security number. \n",
    "* An object's _**state**_(also know as its _properties_ or _atributes_) is represented by variables, called _**data fields**_\n",
    "* Python uses methods to define and object's _**behavior**_"
   ]
  },
  {
   "cell_type": "markdown",
   "id": "30e6306e-3aa8-4d46-81f2-cdfa920dde1d",
   "metadata": {},
   "source": [
    "##### Class contract\n",
    "Object of the same kind are defined by using a common class.\n",
    "\n",
    "A Python class uses variables to store data fields and defines methods to perform actions.\n",
    "A class is a **contract** - also sometimes called a _template_ or _blueprint_ - that defines what an object's data fields and methods will be"
   ]
  },
  {
   "cell_type": "markdown",
   "id": "f40acd43-c452-4c78-9007-e6ac75959bb8",
   "metadata": {},
   "source": [
    "##### Instantiation | object | instance"
   ]
  },
  {
   "cell_type": "markdown",
   "id": "c390e136-6b67-407b-aa33-2301a15b2700",
   "metadata": {},
   "source": [
    "An object is an instance of a class , and you can create many instances of a class. Creating an instance of a class is referred to as _instantiation_. The term _object_ and _instance_ are often used interchangeably. An object is an instance and and instance is an object."
   ]
  },
  {
   "cell_type": "markdown",
   "id": "80550a5f-5639-4275-b517-43e7b52a7794",
   "metadata": {},
   "source": [
    "### Defining Classes"
   ]
  },
  {
   "cell_type": "markdown",
   "id": "ccccf3f1-ec8f-49c4-bf35-a7c8a89932f2",
   "metadata": {},
   "source": [
    "##### methods | initializer\n",
    "In adition to using variables to store data fields and define methods, a class provides a special method, `__init__` this method known as an initializer, is invoked to initialize a new object's _state_ when it is created."
   ]
  },
  {
   "cell_type": "markdown",
   "id": "e95ad7eb-a85d-446c-b5b9-f4c6aa0c324c",
   "metadata": {},
   "source": [
    "##### class definition"
   ]
  },
  {
   "cell_type": "markdown",
   "id": "e07562ca-fb8f-43a3-ab28-939a53fdec2a",
   "metadata": {},
   "source": [
    "Python uses the following syntax to define a class:\n",
    "```python\n",
    "class ClassName:\n",
    "    initializer\n",
    "    methods\n",
    "```"
   ]
  },
  {
   "cell_type": "code",
   "execution_count": 1,
   "id": "5c1917a0-d52d-47d7-801d-c9b2a9a21642",
   "metadata": {},
   "outputs": [],
   "source": [
    "#Example\n",
    "import math\n",
    "class Circle:\n",
    "    # Construct a circle object\n",
    "    def __init__(self, radius = 1):\n",
    "        self.radius = radius\n",
    "    def getPerimeter(self):\n",
    "        return 2 * self.radius * math.pi\n",
    "    def getArea(self):\n",
    "        return self.radius * self.radius * math.pi\n",
    "    def setRadius(self, radius):\n",
    "        self.radius = radius"
   ]
  },
  {
   "cell_type": "markdown",
   "id": "92c31c53-c887-483a-93c1-a76fb9961a6f",
   "metadata": {},
   "source": [
    "##### class naming convention\n",
    "Note : The naming style for class names in the Python library is not consistent . We will adopt a convention that capitalizes the first letter of each word in the class name e.g `Circle`, `LinearEquation` , `LinkedList`"
   ]
  },
  {
   "cell_type": "markdown",
   "id": "8a9c9e40-e6b1-40b3-a16e-3e26d7a99c01",
   "metadata": {},
   "source": [
    "### Constructing Objects"
   ]
  },
  {
   "cell_type": "markdown",
   "id": "a79008f3-11c7-466b-a225-d88f9bb47e4b",
   "metadata": {},
   "source": [
    "Once a class is defined, you can create objects from te class with a **_constructor_**. The _constructor_ does two things:\n",
    "+ It creates an object in the memory for the class\n",
    "+ It invokes the class's `__init__` method to initialize the object.\n",
    "All methods, including the initializer, have the first parameter `self`\n",
    "\n",
    "The syntax for a constructor is:\n",
    "```python\n",
    "ClassName(arguments)\n",
    "#e.g \n",
    "Circle()\n",
    "Circle(5)\n",
    "```\n"
   ]
  },
  {
   "cell_type": "markdown",
   "id": "15d3c913-bc9f-4520-ada5-352e38ef245d",
   "metadata": {},
   "source": [
    "### Accessing Members of Objects "
   ]
  },
  {
   "cell_type": "markdown",
   "id": "39f82cd6-7e7c-4b67-b9c9-65fd23a6a6bf",
   "metadata": {},
   "source": [
    "##### instance methods\n",
    "An object's member refers to its data _fields_ and _methods_. Data fields are also called **instance variables** . Methods are also called **instance methods**\n",
    "\n",
    "In order to access and object's data fields and invoke and object's methods, you need to assign the object to a variable by using the following syntax:\n",
    "```python\n",
    "objectRefVar = ClassName(arguments)\n",
    "#For example,\n",
    "c1 = Circle(5)\n",
    "c2 = Circle()\n",
    "```\n",
    "You can access the object's data fields and invoke its methods by using the _dot operator_ (`.`), also known as the _object member access operator_. The syntax for using the dot operator is:\n",
    "```python\n",
    "objectRefVar.datafield\n",
    "objectRefVar.method(args)\n",
    "```"
   ]
  },
  {
   "cell_type": "markdown",
   "id": "6f2d1f85-4d65-482b-bf81-bf97ac13929f",
   "metadata": {},
   "source": [
    "### The `self` parameter"
   ]
  },
  {
   "cell_type": "markdown",
   "id": "0fbab330-2d98-4205-bc33-ea545176cf46",
   "metadata": {},
   "source": [
    "This parameter is used in the implementation of the method , but it is not used when the method is called.\n",
    "\n",
    "**why self? Why does Python need it?**\n",
    "\n",
    "`self` is a parameter that references the object itself.  Using `self` you can access object's members in a class definition. \n",
    "\n",
    "##### scope of an instance variable\n",
    "\n",
    "The scope of an instance variable is the entire class once it is created. eg `self.x , self.y , self.m1()` \n",
    "\n",
    "_NOTE_: A variable thats appears to hold an object actually contains a reference to that object."
   ]
  },
  {
   "cell_type": "code",
   "execution_count": 7,
   "id": "7249b202-e1d3-429f-a0a4-ed2ff6c97446",
   "metadata": {},
   "outputs": [],
   "source": [
    "class A:\n",
    "    def __init__(self, i=0):\n",
    "        self.i = i"
   ]
  },
  {
   "cell_type": "code",
   "execution_count": 8,
   "id": "02751e81-0e8d-4162-8885-8311925d8138",
   "metadata": {},
   "outputs": [],
   "source": [
    "def main():\n",
    "    a = A()\n",
    "    print(a.i)"
   ]
  },
  {
   "cell_type": "code",
   "execution_count": 9,
   "id": "94e68314-b57d-4bec-a4b9-4f2cdc44b8d2",
   "metadata": {},
   "outputs": [
    {
     "name": "stdout",
     "output_type": "stream",
     "text": [
      "0\n"
     ]
    }
   ],
   "source": [
    "main()"
   ]
  },
  {
   "cell_type": "markdown",
   "id": "b342127c-1496-4a88-afd0-50ce37fd859b",
   "metadata": {},
   "source": [
    "## UML Class Diagrams\n",
    "\n",
    "_**UML class diagrams use graphical notation to describe classes.**_"
   ]
  },
  {
   "cell_type": "markdown",
   "id": "c7fe21f3-45c9-4a07-9e84-473f59b9bb47",
   "metadata": {},
   "source": [
    "The illustration of class templates and objects can be standarized using UML( Unified Modeling Language) notation. This notation, as show in the next cell , called a _UML class diagram_ or simply a _class diagram_, is language independent."
   ]
  },
  {
   "cell_type": "markdown",
   "id": "ed1d50ab-9881-4d1e-8f8a-46902cbd51a7",
   "metadata": {},
   "source": [
    "![YUML diagram](http://yuml.me/diagram/scruffy/class/%5BCircle%7Cradius%20:%20float%20%7C%20Circle(radius%20=%201:%20float%20;%20getArea():%20float;%20getPerimeter():%20float;setRadius(radius:%20float):%20None%5D.jpg)"
   ]
  },
  {
   "cell_type": "markdown",
   "id": "81ba923a-ac16-48e3-b778-bd1d7afdf123",
   "metadata": {},
   "source": [
    "In UML class diagrams, **Data fields** are denoted as:\n",
    "```\n",
    "dataFieldName : dataFieldType\n",
    "```\n",
    "**Constructors** are shown as:\n",
    "```\n",
    "ClassName(parameterName : parameterType)\n",
    "```\n",
    "**Methods** are represented as:\n",
    "```\n",
    "methodName(parameterName: parameterType) : returnType\n",
    "```\n",
    "+ The method definition in the class always has the special `self`parameter ,but don't include in the UML diagrams\n",
    "+ The `__init__` method does not need to be listed in the UML diagram either, because it is invoked by the constructor and its parameters ara the same as the constructor's parameters.\n",
    "+ The UML diagrams serves as the contract(template) for the client so that it will know how to use the class. The diagram describes for the client how to create objects and how to invoke the methods on the objects."
   ]
  },
  {
   "cell_type": "markdown",
   "id": "c869b8d8-5746-4058-bb30-0534d09e5f7f",
   "metadata": {},
   "source": [
    "## Inmutable Objects vs. Mutable Objects"
   ]
  },
  {
   "cell_type": "markdown",
   "id": "74be9ff8-87ec-41a7-84c5-845c75a29b3e",
   "metadata": {},
   "source": [
    "_**When passing a mutable object to a function , the function may change the contents of the object**_\n",
    "\n",
    "Recall that numbers and string are inmutable objects in Python. Their contents cannot be changed. When passing an inmutable object to a function, the object will not be changed.\n",
    "\n",
    "When you pass an object to a function, the reference of the object is passed to the function. However, there are important diferrences between passing inmutable objects and mutable objects:\n",
    "+ For an argument of an inmutable object such as a number or string the original value of the object outside the function is not changed.\n",
    "+ For an argument of an mutable object such as a list , the original value of the object is changed if the contents of the object are changed inside the function."
   ]
  },
  {
   "cell_type": "markdown",
   "id": "8c4030db-a560-4754-9cf6-9cf38e5844ba",
   "metadata": {},
   "source": [
    "## Hiding Data Fields\n",
    "\n",
    "You can access data fields via instance variables directly from an object. \n",
    "\n",
    "Direct access of a data field in an object is not a good practice for two reasons:\n",
    "+ First, data may be tampered with.\n",
    "+ Second, the class becomes difficult to maintain and vulnerable to bugs.\n",
    "\n",
    "To prevent direct modifications of data fields, don't let the client direct data fields. This is known as **_data hiding_**. This can be done by defining **_private data fields_**.\n",
    "\n",
    "In Python the private data fields are defined with two leading underscores. You can also define a **_private method_** named with two leading underscores.\n",
    "\n",
    "Private data fields and methods can be accessed within a class, but they cannot be accesed outside the class.  To make a data field accesible for the client, provide a **_get_ method** to return its value. To eneable a data field to be modified, provide a **_set_ method** to set a new value.\n",
    "\n",
    "**Note**: Colloquially, a `get` method is referred to as a _getter_(or _accessor_), and a `set` method is referred to as a _setter_(or _mutator_)\n",
    "\n",
    "A `get` method has the following header:\n",
    "```python\n",
    "def getPropertyName(self):\n",
    "```\n",
    "If the return type is Boolean, the `get` method is defined as follows by convention:\n",
    "```python\n",
    "def isPropertyName(self):\n",
    "```\n",
    "A `set` method has the following header:\n",
    "```python\n",
    "def setPropertyName(self, propertyValue):\n",
    "```"
   ]
  },
  {
   "cell_type": "code",
   "execution_count": 1,
   "id": "e23cff39-7201-492c-b461-0337602d7c95",
   "metadata": {},
   "outputs": [],
   "source": [
    "# Example: CircleWithPrivateRadius.py\n",
    "import math\n",
    "\n",
    "class Circle:\n",
    "    #Construct a circle object\n",
    "    def __init__(self, radius = 1):\n",
    "        self.__radius = radius\n",
    "    \n",
    "    def getRadius(self):\n",
    "        return self.__radius\n",
    "    \n",
    "    def getPerimeter(self):\n",
    "        return 2 * self.__radius * math.pi\n",
    "    \n",
    "    def getArea(self):\n",
    "        return self.__radius * self.__radius * math.pi"
   ]
  },
  {
   "cell_type": "markdown",
   "id": "d8974114-e2c3-4041-828e-e690997c46e2",
   "metadata": {},
   "source": [
    "## Class Abstraction and Encapsulation\n",
    "**Class abstraction** is a concept that separates class implementation from the use of a class. The class implementation details are invisible from the user. This is known as **class encapsulation**"
   ]
  },
  {
   "cell_type": "markdown",
   "id": "c0531884-1eb7-4eb1-8675-c69a7ea3d8d9",
   "metadata": {},
   "source": [
    "##### class abstraction\n",
    "There are many level of abstraction in software development. _Class Abstraction_ is the separartion of class implementation from the use of a class.\n",
    "##### class's contract\n",
    "The creator of a class describes the class's functions and lets the client know how the class can be used. The class's collection of methods, together with the description of how these methods are expected to behave, serves as the **_class's contract_** with the client.\n",
    "##### class encapsulation\n",
    "The user of the class does not need to know how the class is implemented. The details of implementation are encapsulated and hidden from the user. This is known as **_class encapsulation_**\n",
    "##### abstract data type\n",
    "For example, you can create a `Circle` object and find the area of the circle without knowing how to area is computed. For this reason reason, a class is also know as an **_abstract data type(ADT)_**\n",
    "\n",
    "_The traditional procedural programming paradigm is action-driven; data are separated from actions. The object-oriented programming paradigm focuses on objects, so action are defined along with the data in objects._"
   ]
  },
  {
   "cell_type": "markdown",
   "id": "9121fd6d-6d4a-4187-a707-efe4405348b5",
   "metadata": {},
   "source": [
    "Note: that the `-` (dash) in the UML class diagram denotes a private data field or method of the class."
   ]
  },
  {
   "cell_type": "markdown",
   "id": "d9b2ea6c-4d5b-4730-b23c-e3b8ac137277",
   "metadata": {},
   "source": [
    "![Circle object with private radius](https://yuml.me/1f35d3da.png)"
   ]
  },
  {
   "cell_type": "markdown",
   "id": "5bd689ff-dbe8-49aa-bdfc-f7247ee0b372",
   "metadata": {},
   "source": [
    "#### Examples:\n",
    "Loan Class UML class diagram:"
   ]
  },
  {
   "cell_type": "markdown",
   "id": "2935f13d-5810-4f1d-a3b9-ccf5b697a3f2",
   "metadata": {},
   "source": [
    "![Loan Class diagram](http://yuml.me/d909aa38.png)"
   ]
  },
  {
   "cell_type": "markdown",
   "id": "a4e83295-a096-4482-b529-18681fce92ae",
   "metadata": {},
   "source": [
    "The UML diagram in the previous Figure serves as the contract for the `Loan` class. That is, the user can use the class without knowing how the class is implemented. \n",
    "\n",
    "Now assume that the `Loan` class is available. We begin by writing a test program that uses the `Loan` class"
   ]
  },
  {
   "cell_type": "markdown",
   "id": "b1deab3c-170c-4a33-a8fe-098f276499f0",
   "metadata": {},
   "source": [
    "`TestLoanClass.py`"
   ]
  },
  {
   "cell_type": "code",
   "execution_count": 1,
   "id": "7d77fb44-ea4c-4f9e-b0e9-dcde2af1e778",
   "metadata": {},
   "outputs": [],
   "source": [
    "%run Loan.py"
   ]
  },
  {
   "cell_type": "code",
   "execution_count": 2,
   "id": "af58a9b3-6e70-47bd-a9d4-9292d7637441",
   "metadata": {},
   "outputs": [],
   "source": [
    "def main():\n",
    "    #Enter yearly interest rate\n",
    "    annualInterestRate = eval(input(\"Enter yearly interest rate, for example, 7.25: \"))\n",
    "    #Enter number of years\n",
    "    numberOfYears = eval(input(\"Enter number of years as an integer: \"))\n",
    "    #Enter loan amount:\n",
    "    loanAmount = eval(input(\"Enter loan amount, for example, 120000.95:  \"))\n",
    "    #Enter a borrower\n",
    "    borrower = input(\"Enter a borrower's name: \")\n",
    "    \n",
    "    #Create a Loan object:\n",
    "    loan = Loan(annualInterestRate, numberOfYears, loanAmount, borrower)\n",
    "    \n",
    "    #Display loan date, monthly payment, and total payment\n",
    "    print(\"The loan is for\", loan.getBorrower())\n",
    "    print(\"The monthly payment is\", format(loan.getMonthlyPayment(), \".2f\"))\n",
    "    print(\"The total payment is\",format(loan.getTotalPayment(), \".2f\"))\n",
    "    \n"
   ]
  },
  {
   "cell_type": "code",
   "execution_count": 3,
   "id": "2727b556-7f17-4f4f-9a60-b01609f100bc",
   "metadata": {},
   "outputs": [
    {
     "name": "stdin",
     "output_type": "stream",
     "text": [
      "Enter yearly interest rate, for example, 7.25:  2.5\n",
      "Enter number of years as an integer:  5\n",
      "Enter loan amount, for example, 120000.95:   1000\n",
      "Enter a borrower's name:  Javier\n"
     ]
    },
    {
     "name": "stdout",
     "output_type": "stream",
     "text": [
      "The loan is for Javier\n",
      "The monthly payment is 17.75\n",
      "The total payment is 1064.84\n"
     ]
    }
   ],
   "source": [
    "main() #Call the main function"
   ]
  },
  {
   "cell_type": "markdown",
   "id": "34437851-d9ad-4503-a489-c126ea6ea1e8",
   "metadata": {},
   "source": [
    "The `Loan` class can be implemented as:\n",
    "\n",
    "`Loan.py`\n"
   ]
  },
  {
   "cell_type": "code",
   "execution_count": null,
   "id": "65f0c38b-a128-4959-9a4d-e5316313686c",
   "metadata": {},
   "outputs": [],
   "source": [
    "class Loan:\n",
    "    def __init__(self, annualInterestRate = 2.5, numberOfYears = 1, loanAmount = 1000, borrower = \" \"):\n",
    "        self.__annualInterestRate = annualInterestRate\n",
    "        self.__numberOfYears = numberOfYears\n",
    "        self.__loanAmount = loanAmount\n",
    "        self.__borrower = borrower\n",
    "    \n",
    "    def getAnnualInterestRate(self):\n",
    "        return self.__annualInterestRate\n",
    "    \n",
    "    def getNumberOfYears(self):\n",
    "        return self.__numberOfYears\n",
    "    \n",
    "    def getLoanAmount(self):\n",
    "        return self.__loanAmount\n",
    "    \n",
    "    def getBorrower(self):\n",
    "        return self.__borrower\n",
    "    \n",
    "    def setAnnualInterestRate(self, annualInterestRate):\n",
    "        self.__annualInterestRate = annualInterestRate\n",
    "        \n",
    "    def setNumberOfYears(self, numberOfYears):\n",
    "        self.__numberOfYears = numberOfYears\n",
    "        \n",
    "    def setLoanAmount(self, loanAmount):\n",
    "        self.__loanAmount = loanAmount\n",
    "    \n",
    "    def setBorrower(self, borrower):\n",
    "        self.__borrower = borrower\n",
    "    \n",
    "    def getMonthlyPayment(self):\n",
    "        monthlyInterestRate = self.__annualInterestRate / 1200\n",
    "        monthlyPayment = self.__loanAmount * monthlyInterestRate / (1 - (1 / (1 +  monthlyInterestRate) ** (self.__numberOfYears * 12)))\n",
    "        return monthlyPayment\n",
    "    \n",
    "    def getTotalPayment(self):\n",
    "        totalPayment = self.getMonthlyPayment() * self.__numberOfYears * 12\n",
    "        return totalPayment "
   ]
  },
  {
   "cell_type": "markdown",
   "id": "58f9eb8a-9ac1-4a9e-87d3-45915cbfe5a7",
   "metadata": {},
   "source": [
    "From a class developer's perspective a class is designed for use by many different customers. In order to be useful in a wide range of applications , a class should provide a variety of ways for users to customize the class with methods"
   ]
  },
  {
   "cell_type": "markdown",
   "id": "6d0c83a9-9953-4153-8b72-295c5235a25e",
   "metadata": {},
   "source": [
    "_**Very Important Tip**_\n",
    "The UML diagram for the `Loan` class is shown above. You should first write a test program that uses the `Loan` class even though you don't know how the `Loan` class is implented. This has three benefits:\n",
    "+ It demonstrates that developing a class and using a class are two separate tasks.\n",
    "+ It enables you to skip the complex implementation of certain classes \n",
    "+ It is easier to learn how to implement a class if you are familiar with the class through using it.\n",
    "**First create an object from the class and try to use its methods and then turn your attention to its implementation**\n",
    "### Recall:\n",
    "The Gringo Heize (UTN) says:\n",
    "> + What **outputs** do I need?\n",
    ">  + What **inputs** do we have?\n",
    "> + What **process** do we need to convert _inputs_ into _outputs_?\n"
   ]
  },
  {
   "cell_type": "code",
   "execution_count": null,
   "id": "9d50f050-fe47-46dc-989f-cfa45d76e4b0",
   "metadata": {},
   "outputs": [],
   "source": [
    "#END"
   ]
  }
 ],
 "metadata": {
  "kernelspec": {
   "display_name": "Python 3 (ipykernel)",
   "language": "python",
   "name": "python3"
  },
  "language_info": {
   "codemirror_mode": {
    "name": "ipython",
    "version": 3
   },
   "file_extension": ".py",
   "mimetype": "text/x-python",
   "name": "python",
   "nbconvert_exporter": "python",
   "pygments_lexer": "ipython3",
   "version": "3.9.12"
  }
 },
 "nbformat": 4,
 "nbformat_minor": 5
}
