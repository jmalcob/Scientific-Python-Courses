{
 "cells": [
  {
   "cell_type": "markdown",
   "id": "b798cd8c-9848-4042-a98b-29db25e828bd",
   "metadata": {},
   "source": [
    "## 2.3 Ver y ejecutar un script en Jupyter\n",
    "\n",
    "Un `script` es un codigo escrito en Python\n",
    "Para ver el contenido del  script vamos a usar cat(Linux) o more (Windows)"
   ]
  },
  {
   "cell_type": "code",
   "execution_count": 5,
   "id": "374c7f92-2162-4a98-982b-b18febfc13fd",
   "metadata": {},
   "outputs": [
    {
     "name": "stdout",
     "output_type": "stream",
     "text": [
      "print(\"Hello Pythonistas\")\n"
     ]
    }
   ],
   "source": [
    "!more script1.py "
   ]
  },
  {
   "cell_type": "code",
   "execution_count": 3,
   "id": "69f94d4d-609e-4dcc-b179-0774dbcb7593",
   "metadata": {},
   "outputs": [
    {
     "name": "stdout",
     "output_type": "stream",
     "text": [
      "hola\n"
     ]
    }
   ],
   "source": [
    "print(\"hola\")"
   ]
  },
  {
   "cell_type": "code",
   "execution_count": 6,
   "id": "cbf5a490-8ab1-413d-ba27-3e6112631c22",
   "metadata": {},
   "outputs": [
    {
     "name": "stdout",
     "output_type": "stream",
     "text": [
      "Hello Pythonistas\n"
     ]
    }
   ],
   "source": [
    "%run script1.py"
   ]
  },
  {
   "cell_type": "markdown",
   "id": "18ba1175-b417-4d8d-92a1-839a3847be6c",
   "metadata": {},
   "source": [
    "# Markdown"
   ]
  },
  {
   "cell_type": "markdown",
   "id": "d470504e-2cc9-4193-850d-58767067a68a",
   "metadata": {},
   "source": [
    "**Markdown** (___Markdown___)(__Markdown__) (_Markdown_)(~Markdown~)"
   ]
  },
  {
   "cell_type": "markdown",
   "id": "4c29ec6b-2b7f-4924-9956-14f0170cbe2a",
   "metadata": {},
   "source": [
    "_Jonh Gruber_ o *Jonh Gruber* trata de conseguir la `maxima legibilidad y facilidad de publicacion`"
   ]
  },
  {
   "cell_type": "markdown",
   "id": "c752fa95-8418-4831-8dd2-9a36aaafe5ae",
   "metadata": {},
   "source": [
    "## Tipos de Titulo"
   ]
  },
  {
   "cell_type": "markdown",
   "id": "8968d163-0fda-42f1-9dfd-d23c827640ef",
   "metadata": {},
   "source": [
    "# Primer Titulo\n",
    "## Segundo Titulo\n",
    "### Tercer Titulo\n",
    "#### Cuarto Titulo\n",
    "##### Quinto Titulo\n",
    "###### Ultimo Sexto Titulo\n",
    "####### Ningun septimo titulo"
   ]
  },
  {
   "cell_type": "markdown",
   "id": "e8249aa7-223d-43b5-8435-6e23c9c23710",
   "metadata": {},
   "source": [
    "## Tipos de Letras"
   ]
  },
  {
   "cell_type": "markdown",
   "id": "2d46c73a-9cfe-48d9-91a7-ffafdfcd5c46",
   "metadata": {},
   "source": [
    "Bold \\** \\** or \\__ \\__ **Este texto esta en bold o negritas**"
   ]
  },
  {
   "cell_type": "markdown",
   "id": "1d172ed2-3d85-4675-a40f-f499bc8fecdf",
   "metadata": {},
   "source": [
    "Italic \\* \\* or \\_ \\_ *Este texto esta en italicas*"
   ]
  },
  {
   "cell_type": "markdown",
   "id": "99804f26-0c35-4177-9999-b0217c3dc053",
   "metadata": {},
   "source": [
    "Tachado \\~ \\~  ~Este texto deber ser eliminado~"
   ]
  },
  {
   "cell_type": "markdown",
   "id": "6a338bae-3010-4c94-b5c7-682899a31e76",
   "metadata": {},
   "source": [
    "Bold e Italic \\** \\** and \\_ \\_ _**Este texto es extremadamente importante**_"
   ]
  },
  {
   "cell_type": "markdown",
   "id": "b16d48c6-fa2a-46e4-b0d7-b9d529370937",
   "metadata": {},
   "source": [
    "## Citando Texto"
   ]
  },
  {
   "cell_type": "markdown",
   "id": "bb59f7a9-5ffb-421f-b347-ce46c02c5714",
   "metadata": {},
   "source": [
    "Puedo citar un texto con >.\n",
    "\n",
    "_En las palabra de Galileo Galilei_ :\n",
    "> Nunca he conocido un hombre tan ignorante que no haya podido aprender algo de el."
   ]
  },
  {
   "cell_type": "markdown",
   "id": "86cdb6b0-8419-4cf8-9f05-e7ce927b6495",
   "metadata": {},
   "source": [
    "## Citando Codigo"
   ]
  },
  {
   "cell_type": "markdown",
   "id": "3d310b5e-ea1c-4710-bebf-544d779e6f9a",
   "metadata": {},
   "source": [
    "Puede llamar codigo o un comando dentro de una oracion con solo commillas invertidas ` `  . El texto dentro de las comillas invertidas no sera formateado\n",
    "Use `comillas simpres invertidas` para enumera todos los archivos nuevos o modificados que aun no se han confirmado."
   ]
  },
  {
   "cell_type": "markdown",
   "id": "b54f696b-420e-4fe6-91ae-331e0da80d7c",
   "metadata": {},
   "source": [
    "## Formato de Texto"
   ]
  },
  {
   "cell_type": "markdown",
   "id": "00247473-e319-4558-ac6d-034166b4619c",
   "metadata": {},
   "source": [
    "Para formatear el texto en su propio bloque , use las lineas dobles invertidas"
   ]
  },
  {
   "cell_type": "markdown",
   "id": "09334806-ea24-4e73-b206-2cd38173d1b0",
   "metadata": {},
   "source": [
    "Algunos comandos basicos de Git son:\n",
    "```\n",
    "git status\n",
    "git add\n",
    "git commit\n",
    "```"
   ]
  },
  {
   "cell_type": "markdown",
   "id": "12fe2d1f-f853-4cc2-9606-9c6897a55dec",
   "metadata": {
    "tags": []
   },
   "source": [
    "## Listas"
   ]
  },
  {
   "cell_type": "markdown",
   "id": "09f3333a-1b66-4ef2-a811-2e4d7d86632b",
   "metadata": {},
   "source": [
    "usando \\-\n",
    "- Galileo Galilei\n",
    "- Isaac Newton\n",
    "- Willian Rowan Hamilton"
   ]
  },
  {
   "cell_type": "markdown",
   "id": "d0e77822-729e-489d-8497-fa8d083fd92b",
   "metadata": {},
   "source": [
    "usando \\*\n",
    "* Max Planck\n",
    "* Niels Bohr\n",
    "* Werner Heinsenberg\n"
   ]
  },
  {
   "cell_type": "markdown",
   "id": "e60062f4-5f4e-4aaf-abd9-d7308fa2fe33",
   "metadata": {},
   "source": [
    "usando \\+\n",
    "+ Sadi Carrot\n",
    "+ Rudolf Clausius\n",
    "+ Johannes Van Der Waals"
   ]
  },
  {
   "cell_type": "markdown",
   "id": "5945ebc7-f426-4843-ad91-753d2e1d9a1c",
   "metadata": {},
   "source": [
    "Ordenados\n",
    "1. Uno\n",
    "2. Dos\n",
    "3. Tres"
   ]
  },
  {
   "cell_type": "markdown",
   "id": "81e3d6cb-ab70-484e-bc51-cf8bd5c45d17",
   "metadata": {},
   "source": [
    "## Links\n",
    "-- Links --\n",
    "\n",
    "[Haz Click para ir a Python.org!](https://www.python.org/)\n",
    "\n",
    "--Tambien puedes agregar el titulo de la pagina usando comillas dentro de los parenteis--\n",
    "\n",
    "[Haz click!](https://www.fast.com \"Link a fast.com\")\n",
    "\n",
    "-- Tambien funcion las rutas relativas. --\n",
    "\n",
    "[Ir a la musica](/music/)\n"
   ]
  },
  {
   "cell_type": "markdown",
   "id": "36c84729-68c6-4796-84ed-b51887b78b6c",
   "metadata": {},
   "source": [
    "## Sintaxis de Codigo"
   ]
  },
  {
   "cell_type": "markdown",
   "id": "0f77024c-6c5e-4d36-9511-de145c4f8317",
   "metadata": {},
   "source": [
    "Para agregar un identificador de lenguaje opcional para habilitar el resaltado de sintaxis en su bloque de codigo cerrado.\n",
    "\n",
    "Por ejemplo, para sintaxis resaltada para codigo `Python`:"
   ]
  },
  {
   "cell_type": "markdown",
   "id": "b08f1323-01a5-430d-8f80-954978616828",
   "metadata": {},
   "source": [
    "```python\n",
    "# function that returns dy/dx\n",
    "def model(y,t)\n",
    "    k = 0.3\n",
    "    dydt = -k * y\n",
    "    return dydt\n",
    "# initial condition\n",
    "y0 = 5\n",
    "```"
   ]
  },
  {
   "cell_type": "markdown",
   "id": "ba2971d6-1872-462b-804e-0b18564c8a88",
   "metadata": {},
   "source": [
    "o por ejemplo , para sintaxis resaltada en codigo `Fortran`:"
   ]
  },
  {
   "cell_type": "markdown",
   "id": "75cb4b02-baae-4e51-b6f0-a0e92a8d7a5c",
   "metadata": {},
   "source": [
    "```fortran\n",
    "! Aqui hacemos un comentario\n",
    "f = sin(x)\n",
    "g = cos(x)\n",
    "```"
   ]
  },
  {
   "cell_type": "markdown",
   "id": "3144d43a-99b9-4ad0-8ff1-bea00cafb18a",
   "metadata": {},
   "source": [
    "Codigo en C:\n",
    "```C\n",
    "printf(\"Algo\")\n",
    "```"
   ]
  },
  {
   "cell_type": "markdown",
   "id": "402607f5-ce5a-439b-ac71-36e89ff4db8b",
   "metadata": {},
   "source": [
    "## Tablas"
   ]
  },
  {
   "cell_type": "markdown",
   "id": "7f3cd1e9-22b7-4743-91b1-bf05d290e2cd",
   "metadata": {},
   "source": [
    "Puede crear tablas reuniendo una lista de palabras y dividiendolas con guiones -(para la primera fila)- y luego separando cada columna con una tuberia |:\n",
    "\n",
    "Primera Columna | Segunda Columna | Tercera Columna|\n",
    "------ |:------:| -----:\n",
    "Contenido 1 1 | Contenido 1 2 | Contenido 1 3\n",
    "Contenido 2 1 | Contenido 2 2 | Contenido 2 3\n",
    "\n",
    "\n",
    "|Tables | Are | Cool|\n",
    "|-------| :----: | ----:|\n",
    "|col 1 is |left-aligned|\\$1600|\n",
    "|col 2 is | centered | \\$12|\n",
    "|col 3 is | right-aligned| \\$1|\n"
   ]
  },
  {
   "cell_type": "markdown",
   "id": "435f5d1e-adc1-4466-a339-58bbf0c54d15",
   "metadata": {},
   "source": [
    "## Emojies"
   ]
  },
  {
   "cell_type": "code",
   "execution_count": 4,
   "id": "a0014a86-731c-46ab-9e1b-1820a6bd5969",
   "metadata": {},
   "outputs": [
    {
     "data": {
      "text/plain": [
       "'😁😂😃'"
      ]
     },
     "execution_count": 4,
     "metadata": {},
     "output_type": "execute_result"
    }
   ],
   "source": [
    "u'\\U0001f601' u'\\U0001f602' u'\\U0001f603'"
   ]
  },
  {
   "cell_type": "code",
   "execution_count": null,
   "id": "26e01961-d373-43f2-9350-77cd09a8ce98",
   "metadata": {},
   "outputs": [],
   "source": []
  }
 ],
 "metadata": {
  "kernelspec": {
   "display_name": "Python 3 (ipykernel)",
   "language": "python",
   "name": "python3"
  },
  "language_info": {
   "codemirror_mode": {
    "name": "ipython",
    "version": 3
   },
   "file_extension": ".py",
   "mimetype": "text/x-python",
   "name": "python",
   "nbconvert_exporter": "python",
   "pygments_lexer": "ipython3",
   "version": "3.9.12"
  }
 },
 "nbformat": 4,
 "nbformat_minor": 5
}
